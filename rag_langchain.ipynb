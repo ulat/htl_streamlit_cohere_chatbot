{
 "cells": [
  {
   "cell_type": "code",
   "execution_count": 14,
   "metadata": {},
   "outputs": [
    {
     "data": {
      "text/plain": [
       "True"
      ]
     },
     "execution_count": 14,
     "metadata": {},
     "output_type": "execute_result"
    }
   ],
   "source": [
    "import os\n",
    "import dotenv\n",
    "from pathlib import Path\n",
    "\n",
    "from langchain_cohere import CohereEmbeddings\n",
    "from langchain_core.messages import AIMessage, HumanMessage\n",
    "from langchain_community.document_loaders.text import TextLoader\n",
    "from langchain_community.document_loaders import (\n",
    "    WebBaseLoader, \n",
    "    PyPDFLoader, \n",
    "    Docx2txtLoader,\n",
    ")\n",
    "from langchain_community.vectorstores import Chroma\n",
    "from langchain.text_splitter import RecursiveCharacterTextSplitter\n",
    "from langchain_openai import OpenAIEmbeddings, ChatOpenAI\n",
    "from langchain_anthropic import ChatAnthropic\n",
    "from langchain_cohere import ChatCohere\n",
    "from langchain_core.prompts import ChatPromptTemplate, MessagesPlaceholder\n",
    "from langchain.chains import create_history_aware_retriever, create_retrieval_chain\n",
    "from langchain.chains.combine_documents import create_stuff_documents_chain\n",
    "\n",
    "dotenv.load_dotenv()"
   ]
  },
  {
   "cell_type": "code",
   "execution_count": 3,
   "metadata": {},
   "outputs": [],
   "source": [
    "# Load docs\n",
    "\n",
    "doc_paths = [\n",
    "    \"docs/test_rag.pdf\",\n",
    "    \"docs/test_rag.docx\",\n",
    "]\n",
    "\n",
    "docs = [] \n",
    "for doc_file in doc_paths:\n",
    "    file_path = Path(doc_file)\n",
    "\n",
    "    try:\n",
    "        if doc_file.endswith(\".pdf\"):\n",
    "            loader = PyPDFLoader(file_path)\n",
    "        elif doc_file.endswith(\".docx\"):\n",
    "            loader = Docx2txtLoader(file_path)\n",
    "        elif doc_file.endswith(\".txt\") or doc_file.name.endswith(\".md\"):\n",
    "            loader = TextLoader(file_path)\n",
    "        else:\n",
    "            print(f\"Document type {doc_file.type} not supported.\")\n",
    "            continue\n",
    "\n",
    "        docs.extend(loader.load())\n",
    "\n",
    "    except Exception as e:\n",
    "        print(f\"Error loading document {doc_file.name}: {e}\")\n",
    "\n",
    "\n",
    "# Load URLs\n",
    "\n",
    "url = \"https://docs.streamlit.io/develop/quick-reference/release-notes\"\n",
    "try:\n",
    "    loader = WebBaseLoader(url)\n",
    "    docs.extend(loader.load())\n",
    "\n",
    "except Exception as e:\n",
    "    print(f\"Error loading document from {url}: {e}\")"
   ]
  },
  {
   "cell_type": "code",
   "execution_count": 4,
   "metadata": {},
   "outputs": [
    {
     "data": {
      "text/plain": [
       "[Document(metadata={'source': 'docs/test_rag.pdf', 'page': 0}, page_content='My favorite food is margarita pizza.  \\nThere are 47588 bottles in the tr uck.  '),\n",
       " Document(metadata={'source': 'docs/test_rag.docx'}, page_content='My favorite food is margarita pizza.\\n\\nThere are 47588 bottles in the truck.'),\n",
       " Document(metadata={'source': 'https://docs.streamlit.io/develop/quick-reference/release-notes', 'title': 'Release notes - Streamlit Docs', 'description': 'A changelog of highlights and fixes for each version of Streamlit.', 'language': 'No language found.'}, page_content=\"Release notes - Streamlit DocsDocumentationsearchSearchrocket_launchGet startedInstallationaddFundamentalsaddFirst stepsaddcodeDevelopConceptsaddAPI referenceaddTutorialsaddQuick referenceremoveCheat sheetRelease notesremove2025202420232022202120202019Pre-release featuresRoadmapopen_in_newweb_assetDeployConceptsaddStreamlit Community CloudaddSnowflakeOther platformsaddschoolKnowledge baseFAQInstalling dependenciesDeployment issuesHome/Develop/Quick reference/Release notesRelease notes\\nThis page lists highlights, bug fixes, and known issues for the latest release of Streamlit. If you're looking for information about nightly releases or experimental features, see Pre-release features.\\nUpgrade Streamlit\\nstarTipTo upgrade to the latest version of Streamlit, run:pip install --upgrade streamlit\\n\\nVersion 1.42.0 (latest)\\nRelease date: February 4, 2025\\nHighlights\\n\\n👩\\u200d💻\\xa0Introducing st.login() and st.logout() to authenticate users with any OpenID Connect provider.\\n\\nNotable Changes\\n\\n❣️\\xa0st.table supports Markdown (#8785, #10088).\\n⏲️\\xa0st.spinner can show elapsed time with show_time=True (#6805, #10072).\\n💈\\xa0st.image supports Markdown in the caption parameter (#6808, #10075).\\n↕️\\xa0st.code has a height parameter (#7418, #10080).\\n↔️\\xa0Most charts default to using use_container_width=True (#10064).\\n❄️\\xa0SnowflakeConnection was updated to match the current Snowflake API, which changes its handling of keyword arguments in some cases (#10122).\\n🐁\\xa0Users can drag and drop dataframe columns to rearrange them (#8796, #10099).\\n\\nOther Changes\\n\\n📌\\xa0Dataframes have column menus for users to sort and pin columns (#10206).\\n🚦\\xa0Dataframes support categorical indices (#9647, #10195).\\n🛸\\xa0Dataframes show a hover highlight on rows (#8096, #10104).\\n⚠️\\xa0When dataframes have cell values that are inconsistent with their configured type, Streamlit shows a tooltip describing the error (#8253, #9899).\\n➰ If there is an existing asyncio event loop when a Streamlit app starts, the app will reuse it instead of creating a new one (#10164). Thanks, DeltaGa!\\n🖼️\\xa0Streamlit recognizes pyspark.sql.connect.dataframe.DataFrame objects as dataframes (#9953, #9954). Thanks, OSalama!\\n😃\\xa0We've updated emoji validation for new emojis (#10149).\\n🔣\\xa0Material Symbols have been updated with the latest icons (#10247).\\n💅\\xa0Visual tweaks and improvements (#8705, #9823, #10047, #10048, #10083, #10087, #10225).\\n⭕\\xa0st.image displays rounded corners for consistent design (#9999).\\n🎩\\xa0Bug fix: Top margin is applied correctly in st.columns (#10265, #10268).\\n💩\\xa0Bug fix: react-syntax-highlighter is aliased to prevent rendering errors in st.code (#10231, #10244).\\n🧹\\xa0Bug fix: We improved error messages for st.query_params (#10111, #10237).\\n🪱\\xa0Bug fix: Linting for st.altair_chart recognizes all Altair chart types (#10202).\\n↗️\\xa0Bug fix: st.dataframe supports raw Arrow data (#5606, #10191).\\n🐍\\xa0Bug fix: st.navigation and st.page_link work when running in pure Python tests (#10163).\\n☠️\\xa0Bug fix: Retries were added to prevent a possible race condition when files are removed while Streamlit is running (#10148).\\n👽\\xa0Bug fix: When printing an app, st.logo will only print once (#10165, #10171).\\n🌍\\xa0Bug fix: Material icons are marked to prevent translation (#10168, #10174).\\n👻\\xa0Bug fix: st.vega_lite_chart correctly caches and updates its data (#6689, #10125).\\n🦀\\xa0Bug fix: When a fragment ID is not found, Streamlit logs a warning but doesn't raise an error (#9921, #10130).\\n🦋\\xa0Bug fix: The label on st.expander correctly fades when stale (#10085).\\n🦎\\xa0Bug fix: st.date_input provides better type hinting for its return value (#9477, #9620). Thanks, pranaybattu!\\n🐌\\xa0Bug fix: In dataframes, small float values display their first significant figure instead of displaying as 0 (#10060).\\n🕸️\\xa0Bug fix: When rich is installed, errors are only logged once. (#10097).\\n🦗\\xa0Bug fix: st.text preserves whitespace (#10055, #10062).\\n🦂\\xa0Bug fix: Dataframe width is not ignored when height is changed (#9762, #10036).\\n🦟\\xa0Bug fix: Multi index columns correctly handle empty labels (#9749, #10035).\\n🦠\\xa0Bug fix: Pinned columns respect column_order in when configured in st.dataframe (#9997, #10034).\\n🪰\\xa0Bug fix: Tooltips don't overflow to the left or right (#9288, #9452, #9983).\\n🪳\\xa0Bug fix: Disabled feedback widgets correctly show their value (#10030).\\n🕷️\\xa0Bug fix: Widgets correctly submit values if a user edits the value and immediately clicks a button (#10007, #10018).\\n🐞\\xa0Bug fix: Some MIME types have been hardcoded to protect against browser misconfiguration (#10004, #10010).\\n🐝\\xa0Bug fix: Files that unnecessarily inflated Streamlit's installation size were removed (#10008, #10011).\\n🐜\\xa0Bug fix: st.date_input gives the correct type hint for the value parameter (#10005, #10006).\\n🪲\\xa0Bug fix: st.write passes to st.html when ._repr_html() is present for an object (#9910).\\n🐛\\xa0Bug fix: st.html preserves target=_blank if set in an HTML string (#9972, #9994).\\n\\nOlder versions of Streamlit\\n\\n2024 release notes\\n2023 release notes\\n2022 release notes\\n2021 release notes\\n2020 release notes\\n2019 release notes\\nPrevious: Cheat sheetNext: 2025forumStill have questions?Our forums are full of helpful information and Streamlit experts.HomeContact UsCommunity© 2025 Snowflake Inc.Cookie policyforum Ask AI\")]"
      ]
     },
     "execution_count": 4,
     "metadata": {},
     "output_type": "execute_result"
    }
   ],
   "source": [
    "docs"
   ]
  },
  {
   "cell_type": "code",
   "execution_count": 5,
   "metadata": {},
   "outputs": [],
   "source": [
    "# Split docs\n",
    "\n",
    "text_splitter = RecursiveCharacterTextSplitter(\n",
    "    chunk_size=5000,\n",
    "    chunk_overlap=1000,\n",
    ")\n",
    "\n",
    "document_chunks = text_splitter.split_documents(docs)"
   ]
  },
  {
   "cell_type": "code",
   "execution_count": 8,
   "metadata": {},
   "outputs": [],
   "source": [
    "# Tokenize and load the documents to the vector store\n",
    "embeddings = CohereEmbeddings(\n",
    "    model=\"embed-multilingual-v3.0\",\n",
    ")\n",
    "vector_db = Chroma.from_documents(\n",
    "    documents=document_chunks,\n",
    "    embedding=embeddings,\n",
    ")"
   ]
  },
  {
   "cell_type": "code",
   "execution_count": 9,
   "metadata": {},
   "outputs": [],
   "source": [
    "# Retrieve\n",
    "\n",
    "def _get_context_retriever_chain(vector_db, llm):\n",
    "    retriever = vector_db.as_retriever()\n",
    "    prompt = ChatPromptTemplate.from_messages([\n",
    "        MessagesPlaceholder(variable_name=\"messages\"),\n",
    "        (\"user\", \"{input}\"),\n",
    "        (\"user\", \"Given the above conversation, generate a search query to look up in order to get inforamtion relevant to the conversation, focusing on the most recent messages.\"),\n",
    "    ])\n",
    "    retriever_chain = create_history_aware_retriever(llm, retriever, prompt)\n",
    "\n",
    "    return retriever_chain"
   ]
  },
  {
   "cell_type": "code",
   "execution_count": 12,
   "metadata": {},
   "outputs": [],
   "source": [
    "def get_conversational_rag_chain(llm):\n",
    "    retriever_chain = _get_context_retriever_chain(vector_db, llm)\n",
    "\n",
    "    prompt = ChatPromptTemplate.from_messages([\n",
    "        (\"system\",\n",
    "        \"\"\"You are a helpful assistant. You will have to answer to user's queries.\n",
    "        You will have some context to help with your answers, but now always would be completely related or helpful.\n",
    "        You can also use your knowledge to assist answering the user's queries.\\n\n",
    "        {context}\"\"\"),\n",
    "        MessagesPlaceholder(variable_name=\"messages\"),\n",
    "        (\"user\", \"{input}\"),\n",
    "    ])\n",
    "    stuff_documents_chain = create_stuff_documents_chain(llm, prompt)\n",
    "\n",
    "    return create_retrieval_chain(retriever_chain, stuff_documents_chain)"
   ]
  },
  {
   "cell_type": "code",
   "execution_count": 17,
   "metadata": {},
   "outputs": [
    {
     "name": "stdout",
     "output_type": "stream",
     "text": [
      "The latest version of Streamlit as of February 4, 2025, is 1.42.0. This version includes several highlights, notable changes, and bug fixes. If you're looking to upgrade, you can do so using the following command:\n",
      "\n",
      "```bash\n",
      "pip install --upgrade streamlit\n",
      "```\n",
      "\n",
      "Let me know if you'd like to know more about any specific features or changes in this version!"
     ]
    }
   ],
   "source": [
    "# Augmented Generation\n",
    "# llm_stream_openai = ChatOpenAI(\n",
    "#     model=\"gpt-4o\",  # Here you could use \"o1-preview\" or \"o1-mini\" if you already have access to them\n",
    "#     temperature=0.3,\n",
    "#     streaming=True,\n",
    "# )\n",
    "\n",
    "# llm_stream_anthropic = ChatAnthropic(\n",
    "#     model=\"claude-3-5-sonnet-20240620\",\n",
    "#     temperature=0.3,\n",
    "#     streaming=True,\n",
    "# )\n",
    "\n",
    "import time\n",
    "\n",
    "llm_stream_cohere = ChatCohere(\n",
    "    model=\"command-r7b-12-2024\",\n",
    "    temperature=0.3,\n",
    "    streaming=True,\n",
    ")\n",
    "\n",
    "llm_stream = llm_stream_cohere  # Select between OpenAI and Anthropic models for the response\n",
    "\n",
    "messages = [\n",
    "    {\"role\": \"user\", \"content\": \"Hi\"},\n",
    "    {\"role\": \"assistant\", \"content\": \"Hi there! How can I assist you today?\"},\n",
    "    {\"role\": \"user\", \"content\": \"What is the latest version of Streamlit?\"},\n",
    "]\n",
    "messages = [HumanMessage(content=m[\"content\"]) if m[\"role\"] == \"user\" else AIMessage(content=m[\"content\"]) for m in messages]\n",
    "\n",
    "conversation_rag_chain = get_conversational_rag_chain(llm_stream)\n",
    "response_message = \"*(RAG Response)*\\n\"\n",
    "for chunk in conversation_rag_chain.pick(\"answer\").stream({\"messages\": messages[:-1], \"input\": messages[-1].content}):\n",
    "    response_message += chunk\n",
    "    print(chunk, end=\"\", flush=True)\n",
    "    time.sleep(0.05)\n",
    "messages.append({\"role\": \"assistant\", \"content\": response_message})"
   ]
  },
  {
   "cell_type": "code",
   "execution_count": null,
   "metadata": {},
   "outputs": [],
   "source": []
  },
  {
   "cell_type": "code",
   "execution_count": null,
   "metadata": {},
   "outputs": [
    {
     "name": "stdout",
     "output_type": "stream",
     "text": [
      "Sure! Microsoft Azure, commonly referred to as Azure, is a cloud computing platform and service created by Microsoft. It provides a wide range of cloud services, including those for computing, analytics, storage, and networking. Users can choose and configure these services to develop and scale new applications or run existing applications in the public cloud.\n",
      "\n",
      "Here are some key aspects of Azure:\n",
      "\n",
      "1. **Compute Services**: Azure offers virtual machines, containers, and serverless computing options. This includes Azure Virtual Machines, Azure Kubernetes Service (AKS), and Azure Functions.\n",
      "\n",
      "2. **Storage Solutions**: Azure provides scalable cloud storage solutions such as Azure Blob Storage, Azure Disk Storage, and Azure File Storage. These services cater to different data storage needs, from unstructured data to persistent disk storage.\n",
      "\n",
      "3. **Networking**: Azure offers a variety of networking services, including Azure Virtual Network, Azure Load Balancer, and Azure Application Gateway. These services help in building secure and high-performance network architectures.\n",
      "\n",
      "4. **Databases**: Azure supports multiple database services, including Azure SQL Database, Azure Cosmos DB, and Azure Database for MySQL, PostgreSQL, and MariaDB. These managed database services offer high availability, scalability, and security.\n",
      "\n",
      "5. **AI and Machine Learning**: Azure provides a suite of AI and machine learning services, such as Azure Machine Learning, Azure Cognitive Services, and Azure Bot Service. These tools help developers build intelligent applications.\n",
      "\n",
      "6. **Analytics**: Azure offers a range of analytics services, including Azure Synapse Analytics, Azure HDInsight, and Azure Data Lake Analytics. These services enable big data processing and advanced analytics.\n",
      "\n",
      "7. **DevOps**: Azure DevOps provides development tools for continuous integration and continuous delivery (CI/CD). It includes services like Azure Pipelines, Azure Repos, and Azure Artifacts.\n",
      "\n",
      "8. **Security and Compliance**: Azure emphasizes security with services like Azure Security Center, Azure Active Directory, and Azure Key Vault. It also complies with numerous international and industry-specific standards.\n",
      "\n",
      "9. **IoT**: Azure IoT Hub and Azure IoT Central are services designed to connect, monitor, and manage IoT devices at scale.\n",
      "\n",
      "10. **Hybrid Cloud**: Azure supports hybrid cloud environments with services like Azure Arc and Azure Stack, allowing businesses to run Azure services on-premises or in other cloud environments.\n",
      "\n",
      "11. **Management and Governance**: Azure provides tools for managing and governing cloud resources, such as Azure Policy, Azure Cost Management, and Azure Monitor.\n",
      "\n",
      "Azure is known for its global reach, with data centers in numerous regions worldwide, providing low-latency access and data residency options. It supports a wide range of programming languages, frameworks, and operating systems, making it a versatile choice for developers and enterprises.\n",
      "\n",
      "Overall, Azure is a comprehensive cloud platform that helps organizations innovate, scale, and manage their IT resources efficiently."
     ]
    }
   ],
   "source": [
    "# import os\n",
    "# from langchain_openai import AzureChatOpenAI\n",
    "# import dotenv\n",
    "\n",
    "# dotenv.load_dotenv()\n",
    "\n",
    "# llm_stream = AzureChatOpenAI(\n",
    "#     azure_endpoint=os.getenv(\"AZ_OPENAI_ENDPOINT\"),\n",
    "#     openai_api_version=\"2024-02-15-preview\",\n",
    "#     model_name=\"gpt-4o\",\n",
    "#     openai_api_key=os.getenv(\"AZ_OPENAI_API_KEY\"),\n",
    "#     openai_api_type=\"azure\",\n",
    "#     temperature=0.3,\n",
    "#     streaming=True,\n",
    "# )\n",
    "\n",
    "# prompt = \"Tell me something about Azure\"\n",
    "\n",
    "# for chunk in llm_stream.stream(prompt):\n",
    "#     print(chunk.content, end=\"\", flush=True)"
   ]
  }
 ],
 "metadata": {
  "kernelspec": {
   "display_name": ".venv",
   "language": "python",
   "name": "python3"
  },
  "language_info": {
   "codemirror_mode": {
    "name": "ipython",
    "version": 3
   },
   "file_extension": ".py",
   "mimetype": "text/x-python",
   "name": "python",
   "nbconvert_exporter": "python",
   "pygments_lexer": "ipython3",
   "version": "3.11.9"
  }
 },
 "nbformat": 4,
 "nbformat_minor": 2
}
